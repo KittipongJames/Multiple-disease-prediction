{
 "cells": [
  {
   "cell_type": "code",
   "execution_count": 2,
   "metadata": {},
   "outputs": [],
   "source": [
    "import pandas as pd\n",
    "import numpy as np\n",
    "import seaborn as sns\n",
    "from sklearn.model_selection import train_test_split\n",
    "from sklearn import svm\n",
    "from sklearn.metrics import accuracy_score\n",
    "import warnings\n",
    "warnings.filterwarnings('ignore')"
   ]
  },
  {
   "cell_type": "code",
   "execution_count": 3,
   "metadata": {},
   "outputs": [
    {
     "name": "stdout",
     "output_type": "stream",
     "text": [
      "    Loan_ID Gender Married Dependents     Education Self_Employed  \\\n",
      "0  LP001002   Male      No          0      Graduate            No   \n",
      "1  LP001003   Male     Yes          1      Graduate            No   \n",
      "2  LP001005   Male     Yes          0      Graduate           Yes   \n",
      "3  LP001006   Male     Yes          0  Not Graduate            No   \n",
      "4  LP001008   Male      No          0      Graduate            No   \n",
      "\n",
      "   ApplicantIncome  CoapplicantIncome  LoanAmount  Loan_Amount_Term  \\\n",
      "0             5849                0.0         NaN             360.0   \n",
      "1             4583             1508.0       128.0             360.0   \n",
      "2             3000                0.0        66.0             360.0   \n",
      "3             2583             2358.0       120.0             360.0   \n",
      "4             6000                0.0       141.0             360.0   \n",
      "\n",
      "   Credit_History Property_Area Loan_Status  \n",
      "0             1.0         Urban           Y  \n",
      "1             1.0         Rural           N  \n",
      "2             1.0         Urban           Y  \n",
      "3             1.0         Urban           Y  \n",
      "4             1.0         Urban           Y  \n"
     ]
    }
   ],
   "source": [
    "import seaborn as sns\n",
    "from sklearn.model_selection import train_test_split\n",
    "from sklearn import svm\n",
    "from sklearn.metrics import accuracy_score\n",
    "import warnings\n",
    "warnings.filterwarnings('ignore')\n",
    "data = pd.read_csv('train.csv')\n",
    "print(data.head())"
   ]
  },
  {
   "cell_type": "code",
   "execution_count": 4,
   "metadata": {},
   "outputs": [
    {
     "name": "stdout",
     "output_type": "stream",
     "text": [
      "<class 'pandas.core.frame.DataFrame'>\n",
      "RangeIndex: 614 entries, 0 to 613\n",
      "Data columns (total 13 columns):\n",
      " #   Column             Non-Null Count  Dtype  \n",
      "---  ------             --------------  -----  \n",
      " 0   Loan_ID            614 non-null    object \n",
      " 1   Gender             601 non-null    object \n",
      " 2   Married            611 non-null    object \n",
      " 3   Dependents         599 non-null    object \n",
      " 4   Education          614 non-null    object \n",
      " 5   Self_Employed      582 non-null    object \n",
      " 6   ApplicantIncome    614 non-null    int64  \n",
      " 7   CoapplicantIncome  614 non-null    float64\n",
      " 8   LoanAmount         592 non-null    float64\n",
      " 9   Loan_Amount_Term   600 non-null    float64\n",
      " 10  Credit_History     564 non-null    float64\n",
      " 11  Property_Area      614 non-null    object \n",
      " 12  Loan_Status        614 non-null    object \n",
      "dtypes: float64(4), int64(1), object(8)\n",
      "memory usage: 62.5+ KB\n"
     ]
    }
   ],
   "source": [
    "data.info()"
   ]
  },
  {
   "cell_type": "code",
   "execution_count": 5,
   "metadata": {},
   "outputs": [
    {
     "data": {
      "text/plain": [
       "Loan_ID               0\n",
       "Gender               13\n",
       "Married               3\n",
       "Dependents           15\n",
       "Education             0\n",
       "Self_Employed        32\n",
       "ApplicantIncome       0\n",
       "CoapplicantIncome     0\n",
       "LoanAmount           22\n",
       "Loan_Amount_Term     14\n",
       "Credit_History       50\n",
       "Property_Area         0\n",
       "Loan_Status           0\n",
       "dtype: int64"
      ]
     },
     "execution_count": 5,
     "metadata": {},
     "output_type": "execute_result"
    }
   ],
   "source": [
    "data.isnull().sum()"
   ]
  },
  {
   "cell_type": "code",
   "execution_count": 6,
   "metadata": {},
   "outputs": [
    {
     "data": {
      "text/plain": [
       "<bound method NDFrame.describe of       Loan_ID  Gender Married Dependents     Education Self_Employed  \\\n",
       "0    LP001002    Male      No          0      Graduate            No   \n",
       "1    LP001003    Male     Yes          1      Graduate            No   \n",
       "2    LP001005    Male     Yes          0      Graduate           Yes   \n",
       "3    LP001006    Male     Yes          0  Not Graduate            No   \n",
       "4    LP001008    Male      No          0      Graduate            No   \n",
       "..        ...     ...     ...        ...           ...           ...   \n",
       "609  LP002978  Female      No          0      Graduate            No   \n",
       "610  LP002979    Male     Yes         3+      Graduate            No   \n",
       "611  LP002983    Male     Yes          1      Graduate            No   \n",
       "612  LP002984    Male     Yes          2      Graduate            No   \n",
       "613  LP002990  Female      No          0      Graduate           Yes   \n",
       "\n",
       "     ApplicantIncome  CoapplicantIncome  LoanAmount  Loan_Amount_Term  \\\n",
       "0               5849                0.0         NaN             360.0   \n",
       "1               4583             1508.0       128.0             360.0   \n",
       "2               3000                0.0        66.0             360.0   \n",
       "3               2583             2358.0       120.0             360.0   \n",
       "4               6000                0.0       141.0             360.0   \n",
       "..               ...                ...         ...               ...   \n",
       "609             2900                0.0        71.0             360.0   \n",
       "610             4106                0.0        40.0             180.0   \n",
       "611             8072              240.0       253.0             360.0   \n",
       "612             7583                0.0       187.0             360.0   \n",
       "613             4583                0.0       133.0             360.0   \n",
       "\n",
       "     Credit_History Property_Area Loan_Status  \n",
       "0               1.0         Urban           Y  \n",
       "1               1.0         Rural           N  \n",
       "2               1.0         Urban           Y  \n",
       "3               1.0         Urban           Y  \n",
       "4               1.0         Urban           Y  \n",
       "..              ...           ...         ...  \n",
       "609             1.0         Rural           Y  \n",
       "610             1.0         Rural           Y  \n",
       "611             1.0         Urban           Y  \n",
       "612             1.0         Urban           Y  \n",
       "613             0.0     Semiurban           N  \n",
       "\n",
       "[614 rows x 13 columns]>"
      ]
     },
     "execution_count": 6,
     "metadata": {},
     "output_type": "execute_result"
    }
   ],
   "source": [
    "data.describe"
   ]
  },
  {
   "cell_type": "code",
   "execution_count": 8,
   "metadata": {},
   "outputs": [
    {
     "name": "stdout",
     "output_type": "stream",
     "text": [
      "(614, 13)\n"
     ]
    }
   ],
   "source": [
    "print(data.shape)"
   ]
  },
  {
   "cell_type": "code",
   "execution_count": 7,
   "metadata": {},
   "outputs": [
    {
     "name": "stdout",
     "output_type": "stream",
     "text": [
      "['0' '1' '2' '3+' nan]\n",
      "Dependents\n",
      "0     345\n",
      "1     102\n",
      "2     101\n",
      "3+     51\n",
      "Name: count, dtype: int64\n"
     ]
    }
   ],
   "source": [
    "print(data['Dependents'].unique())\n",
    "print(data['Dependents'].value_counts())"
   ]
  },
  {
   "cell_type": "code",
   "execution_count": 8,
   "metadata": {},
   "outputs": [
    {
     "name": "stdout",
     "output_type": "stream",
     "text": [
      "<bound method IndexOpsMixin.value_counts of 0      0\n",
      "1      1\n",
      "2      0\n",
      "3      0\n",
      "4      0\n",
      "      ..\n",
      "609    0\n",
      "610    4\n",
      "611    1\n",
      "612    2\n",
      "613    0\n",
      "Name: Dependents, Length: 614, dtype: object>\n"
     ]
    }
   ],
   "source": [
    "# เข้าถึงฐานข้อมูล ใช้เมธอด replace เพื่อแทนค่าในวงเล็บดังต่อไปนี้\n",
    "# to_replace='3+' ไปยังค่าในคอลัมน์ที่ต้องการก็คือค่า 3+ ใช้ value='4' เพื่อเปลี่ยนเป็นค่า 4\n",
    "data = data.replace(to_replace='3+', value='4')\n",
    "print(data['Dependents'].value_counts)"
   ]
  },
  {
   "cell_type": "code",
   "execution_count": 9,
   "metadata": {},
   "outputs": [
    {
     "name": "stdout",
     "output_type": "stream",
     "text": [
      "Loan_ID              0\n",
      "Gender               0\n",
      "Married              0\n",
      "Dependents           0\n",
      "Education            0\n",
      "Self_Employed        0\n",
      "ApplicantIncome      0\n",
      "CoapplicantIncome    0\n",
      "LoanAmount           0\n",
      "Loan_Amount_Term     0\n",
      "Credit_History       0\n",
      "Property_Area        0\n",
      "Loan_Status          0\n",
      "dtype: int64\n"
     ]
    }
   ],
   "source": [
    "data = data.dropna()\n",
    "print(data.isnull().sum())"
   ]
  },
  {
   "cell_type": "code",
   "execution_count": 10,
   "metadata": {},
   "outputs": [
    {
     "name": "stdout",
     "output_type": "stream",
     "text": [
      "    Loan_ID Gender Married Dependents     Education Self_Employed  \\\n",
      "1  LP001003   Male     Yes          1      Graduate            No   \n",
      "2  LP001005   Male     Yes          0      Graduate           Yes   \n",
      "3  LP001006   Male     Yes          0  Not Graduate            No   \n",
      "4  LP001008   Male      No          0      Graduate            No   \n",
      "5  LP001011   Male     Yes          2      Graduate           Yes   \n",
      "6  LP001013   Male     Yes          0  Not Graduate            No   \n",
      "7  LP001014   Male     Yes          4      Graduate            No   \n",
      "8  LP001018   Male     Yes          2      Graduate            No   \n",
      "\n",
      "   ApplicantIncome  CoapplicantIncome  LoanAmount  Loan_Amount_Term  \\\n",
      "1             4583             1508.0       128.0             360.0   \n",
      "2             3000                0.0        66.0             360.0   \n",
      "3             2583             2358.0       120.0             360.0   \n",
      "4             6000                0.0       141.0             360.0   \n",
      "5             5417             4196.0       267.0             360.0   \n",
      "6             2333             1516.0        95.0             360.0   \n",
      "7             3036             2504.0       158.0             360.0   \n",
      "8             4006             1526.0       168.0             360.0   \n",
      "\n",
      "   Credit_History Property_Area  Loan_Status  \n",
      "1             1.0         Rural            0  \n",
      "2             1.0         Urban            1  \n",
      "3             1.0         Urban            1  \n",
      "4             1.0         Urban            1  \n",
      "5             1.0         Urban            1  \n",
      "6             1.0         Urban            1  \n",
      "7             0.0     Semiurban            0  \n",
      "8             1.0         Urban            1  \n"
     ]
    }
   ],
   "source": [
    "data = data.replace({'Loan_Status': {'N': 0, 'Y': 1}})\n",
    "print(data.head(8))"
   ]
  },
  {
   "cell_type": "code",
   "execution_count": 11,
   "metadata": {},
   "outputs": [
    {
     "name": "stdout",
     "output_type": "stream",
     "text": [
      "['Yes' 'No']\n",
      "['Male' 'Female']\n",
      "['No' 'Yes']\n",
      "['Rural' 'Urban' 'Semiurban']\n",
      "['Graduate' 'Not Graduate']\n"
     ]
    }
   ],
   "source": [
    "print(data['Married'].unique())\n",
    "print(data['Gender'].unique())\n",
    "print(data['Self_Employed'].unique())\n",
    "print(data['Property_Area'].unique())\n",
    "print(data['Education'].unique())"
   ]
  },
  {
   "cell_type": "code",
   "execution_count": 12,
   "metadata": {},
   "outputs": [
    {
     "name": "stdout",
     "output_type": "stream",
     "text": [
      "    Loan_ID  Gender  Married Dependents  Education  Self_Employed  \\\n",
      "1  LP001003       0        1          1          1              0   \n",
      "2  LP001005       0        1          0          1              1   \n",
      "3  LP001006       0        1          0          2              0   \n",
      "4  LP001008       0        0          0          1              0   \n",
      "5  LP001011       0        1          2          1              1   \n",
      "\n",
      "   ApplicantIncome  CoapplicantIncome  LoanAmount  Loan_Amount_Term  \\\n",
      "1             4583             1508.0       128.0             360.0   \n",
      "2             3000                0.0        66.0             360.0   \n",
      "3             2583             2358.0       120.0             360.0   \n",
      "4             6000                0.0       141.0             360.0   \n",
      "5             5417             4196.0       267.0             360.0   \n",
      "\n",
      "   Credit_History  Property_Area  Loan_Status  \n",
      "1             1.0              0            0  \n",
      "2             1.0              2            1  \n",
      "3             1.0              2            1  \n",
      "4             1.0              2            1  \n",
      "5             1.0              2            1  \n"
     ]
    }
   ],
   "source": [
    "data = data.replace({'Married': {'No': 0, 'Yes': 1},\n",
    "                     'Gender': {'Male': 0, 'Female': 1},\n",
    "                     'Self_Employed': {'No': 0, 'Yes': 1},\n",
    "                     'Property_Area': {'Rural': 0, 'Semiurban': 1, 'Urban': 2},\n",
    "                     'Education': {'Graduate': 1, 'Not Graduate': 2}})\n",
    "print(data.head())"
   ]
  },
  {
   "cell_type": "code",
   "execution_count": 13,
   "metadata": {},
   "outputs": [
    {
     "data": {
      "text/plain": [
       "1      0\n",
       "2      1\n",
       "3      1\n",
       "4      1\n",
       "5      1\n",
       "      ..\n",
       "609    1\n",
       "610    1\n",
       "611    1\n",
       "612    1\n",
       "613    0\n",
       "Name: Loan_Status, Length: 480, dtype: int64"
      ]
     },
     "execution_count": 13,
     "metadata": {},
     "output_type": "execute_result"
    }
   ],
   "source": [
    "# ใช้คำสั่ง drop ทำการdrop ทั้งชื่อหัวข้อและค่าในแนวตั้ง axis=1\n",
    "x = data.drop(columns= ['Loan_ID', 'Loan_Status'], axis=1)\n",
    "y = data['Loan_Status']\n",
    "y"
   ]
  },
  {
   "cell_type": "code",
   "execution_count": 14,
   "metadata": {},
   "outputs": [
    {
     "name": "stdout",
     "output_type": "stream",
     "text": [
      "     Gender  Married Dependents  Education  Self_Employed  ApplicantIncome  \\\n",
      "122       1        0          0          1              0             2137   \n",
      "498       0        1          1          1              1             2895   \n",
      "144       0        1          2          1              0            11757   \n",
      "217       0        1          0          1              0             3727   \n",
      "362       0        1          0          1              0             4750   \n",
      "..      ...      ...        ...        ...            ...              ...   \n",
      "72        0        0          0          1              0             3500   \n",
      "390       0        0          4          1              0             9167   \n",
      "76        0        0          0          1              0             3750   \n",
      "286       1        0          0          1              1             2600   \n",
      "376       0        1          4          1              0             8750   \n",
      "\n",
      "     CoapplicantIncome  LoanAmount  Loan_Amount_Term  Credit_History  \\\n",
      "122             8980.0       137.0             360.0             0.0   \n",
      "498                0.0        95.0             360.0             1.0   \n",
      "144                0.0       187.0             180.0             1.0   \n",
      "217             1775.0       131.0             360.0             1.0   \n",
      "362             2333.0       130.0             360.0             1.0   \n",
      "..                 ...         ...               ...             ...   \n",
      "72                 0.0        81.0             300.0             1.0   \n",
      "390                0.0       185.0             360.0             1.0   \n",
      "76              4750.0       176.0             360.0             1.0   \n",
      "286             1717.0        99.0             300.0             1.0   \n",
      "376             4996.0       130.0             360.0             1.0   \n",
      "\n",
      "     Property_Area  \n",
      "122              1  \n",
      "498              1  \n",
      "144              2  \n",
      "217              1  \n",
      "362              2  \n",
      "..             ...  \n",
      "72               1  \n",
      "390              0  \n",
      "76               2  \n",
      "286              1  \n",
      "376              0  \n",
      "\n",
      "[432 rows x 11 columns]      Gender  Married Dependents  Education  Self_Employed  ApplicantIncome  \\\n",
      "368       0        1          1          1              0             6325   \n",
      "74        0        1          4          1              1             5266   \n",
      "135       0        1          4          1              0             4000   \n",
      "53        0        1          2          1              0             4616   \n",
      "96        1        1          0          1              0             2484   \n",
      "388       0        1          0          1              0             2333   \n",
      "345       0        1          0          1              0             2499   \n",
      "8         0        1          2          1              0             4006   \n",
      "549       0        1          0          1              0             2785   \n",
      "99        0        1          0          1              0             1759   \n",
      "49        1        0          0          1              0             4000   \n",
      "513       0        1          0          1              0             2130   \n",
      "43        0        1          0          1              0             3941   \n",
      "92        0        1          2          2              0             3273   \n",
      "555       0        1          1          1              0             5468   \n",
      "609       1        0          0          1              0             2900   \n",
      "221       0        1          2          1              0             4009   \n",
      "454       0        0          0          1              1             7085   \n",
      "607       0        1          2          2              0             3987   \n",
      "179       0        0          0          2              0             2333   \n",
      "277       0        1          0          1              0             3103   \n",
      "488       0        1          2          1              1             4583   \n",
      "150       0        0          0          1              0             6277   \n",
      "585       0        1          1          1              0             4283   \n",
      "168       0        0          0          1              0             2237   \n",
      "267       0        1          4          1              0             4333   \n",
      "543       0        1          1          2              0             2239   \n",
      "520       0        1          2          2              0             2192   \n",
      "22        0        1          0          2              0             2600   \n",
      "69        1        0          0          1              0             4300   \n",
      "91        0        1          2          1              0             6250   \n",
      "250       0        1          0          2              0             1668   \n",
      "416       1        0          1          1              0             2600   \n",
      "154       0        0          0          1              0             3254   \n",
      "415       1        0          0          1              0             2995   \n",
      "291       0        1          2          1              0             4400   \n",
      "253       0        1          1          2              0             2661   \n",
      "97        0        1          0          1              0             1977   \n",
      "393       0        1          2          2              0             1993   \n",
      "399       1        0          0          1              0             1500   \n",
      "537       0        0          2          1              0             3617   \n",
      "15        0        0          0          1              0             4950   \n",
      "469       0        1          0          1              0             4333   \n",
      "371       0        1          2          1              0             5185   \n",
      "300       0        1          0          2              0             1800   \n",
      "189       0        1          0          1              0             9328   \n",
      "224       0        1          0          1              0             6250   \n",
      "201       0        0          2          1              0             4923   \n",
      "\n",
      "     CoapplicantIncome  LoanAmount  Loan_Amount_Term  Credit_History  \\\n",
      "368                0.0       175.0             360.0             1.0   \n",
      "74              1774.0       187.0             360.0             1.0   \n",
      "135             7750.0       290.0             360.0             1.0   \n",
      "53                 0.0       134.0             360.0             1.0   \n",
      "96              2302.0       137.0             360.0             1.0   \n",
      "388             2417.0       136.0             360.0             1.0   \n",
      "345             2458.0       160.0             360.0             1.0   \n",
      "8               1526.0       168.0             360.0             1.0   \n",
      "549             2016.0       110.0             360.0             1.0   \n",
      "99              3541.0       131.0             360.0             1.0   \n",
      "49              2275.0       144.0             360.0             1.0   \n",
      "513             6666.0        70.0             180.0             1.0   \n",
      "43              2336.0       134.0             360.0             1.0   \n",
      "92              1820.0        81.0             360.0             1.0   \n",
      "555             1032.0        26.0             360.0             1.0   \n",
      "609                0.0        71.0             360.0             1.0   \n",
      "221             1717.0       116.0             360.0             1.0   \n",
      "454                0.0        84.0             360.0             1.0   \n",
      "607             1411.0       157.0             360.0             1.0   \n",
      "179             1451.0       102.0             480.0             0.0   \n",
      "277             1300.0        80.0             360.0             1.0   \n",
      "488             2083.0       160.0             360.0             1.0   \n",
      "150                0.0       118.0             360.0             0.0   \n",
      "585             3000.0       172.0              84.0             1.0   \n",
      "168                0.0        63.0             480.0             0.0   \n",
      "267             1811.0       160.0             360.0             0.0   \n",
      "543             2524.0       128.0             360.0             1.0   \n",
      "520             1742.0        45.0             360.0             1.0   \n",
      "22              1911.0       116.0             360.0             0.0   \n",
      "69                 0.0       136.0             360.0             0.0   \n",
      "91              5654.0       188.0             180.0             1.0   \n",
      "250             3890.0       201.0             360.0             0.0   \n",
      "416                0.0       160.0             360.0             1.0   \n",
      "154                0.0        50.0             360.0             1.0   \n",
      "415                0.0        60.0             360.0             1.0   \n",
      "291                0.0       127.0             360.0             0.0   \n",
      "253             7101.0       279.0             180.0             1.0   \n",
      "97               997.0        50.0             360.0             1.0   \n",
      "393             1625.0       113.0             180.0             1.0   \n",
      "399             1800.0       103.0             360.0             0.0   \n",
      "537                0.0       107.0             360.0             1.0   \n",
      "15                 0.0       125.0             360.0             1.0   \n",
      "469             2451.0       110.0             360.0             1.0   \n",
      "371                0.0       155.0             360.0             1.0   \n",
      "300             2934.0        93.0             360.0             0.0   \n",
      "189                0.0       188.0             180.0             1.0   \n",
      "224                0.0       128.0             360.0             1.0   \n",
      "201                0.0       166.0             360.0             0.0   \n",
      "\n",
      "     Property_Area  \n",
      "368              1  \n",
      "74               1  \n",
      "135              1  \n",
      "53               2  \n",
      "96               1  \n",
      "388              2  \n",
      "345              1  \n",
      "8                2  \n",
      "549              0  \n",
      "99               1  \n",
      "49               1  \n",
      "513              1  \n",
      "43               1  \n",
      "92               2  \n",
      "555              1  \n",
      "609              0  \n",
      "221              1  \n",
      "454              1  \n",
      "607              0  \n",
      "179              2  \n",
      "277              2  \n",
      "488              1  \n",
      "150              0  \n",
      "585              0  \n",
      "168              1  \n",
      "267              2  \n",
      "543              2  \n",
      "520              1  \n",
      "22               1  \n",
      "69               1  \n",
      "91               1  \n",
      "250              1  \n",
      "416              2  \n",
      "154              2  \n",
      "415              2  \n",
      "291              1  \n",
      "253              1  \n",
      "97               1  \n",
      "393              1  \n",
      "399              1  \n",
      "537              1  \n",
      "15               2  \n",
      "469              2  \n",
      "371              1  \n",
      "300              2  \n",
      "189              0  \n",
      "224              1  \n",
      "201              1   122    1\n",
      "498    1\n",
      "144    1\n",
      "217    1\n",
      "362    1\n",
      "      ..\n",
      "72     1\n",
      "390    1\n",
      "76     0\n",
      "286    0\n",
      "376    1\n",
      "Name: Loan_Status, Length: 432, dtype: int64 368    1\n",
      "74     1\n",
      "135    0\n",
      "53     0\n",
      "96     1\n",
      "388    1\n",
      "345    1\n",
      "8      1\n",
      "549    1\n",
      "99     1\n",
      "49     1\n",
      "513    0\n",
      "43     1\n",
      "92     1\n",
      "555    1\n",
      "609    1\n",
      "221    1\n",
      "454    1\n",
      "607    1\n",
      "179    0\n",
      "277    1\n",
      "488    1\n",
      "150    0\n",
      "585    0\n",
      "168    0\n",
      "267    1\n",
      "543    1\n",
      "520    1\n",
      "22     0\n",
      "69     0\n",
      "91     1\n",
      "250    0\n",
      "416    0\n",
      "154    1\n",
      "415    1\n",
      "291    0\n",
      "253    1\n",
      "97     1\n",
      "393    1\n",
      "399    0\n",
      "537    1\n",
      "15     1\n",
      "469    0\n",
      "371    1\n",
      "300    0\n",
      "189    1\n",
      "224    1\n",
      "201    1\n",
      "Name: Loan_Status, dtype: int64\n"
     ]
    }
   ],
   "source": [
    "xtrain, xtest, ytrain, ytest = train_test_split(x,y, test_size=.1, stratify=y, random_state=2)\n",
    "print(xtrain, xtest, ytrain, ytest)"
   ]
  },
  {
   "cell_type": "code",
   "execution_count": 15,
   "metadata": {},
   "outputs": [],
   "source": [
    "data = pd.concat([xtest,ytest], axis=1)\n",
    "data.to_csv('text.text', index=False)"
   ]
  },
  {
   "cell_type": "code",
   "execution_count": 16,
   "metadata": {},
   "outputs": [],
   "source": [
    "clf = svm.SVC(kernel='linear')"
   ]
  },
  {
   "cell_type": "code",
   "execution_count": null,
   "metadata": {},
   "outputs": [],
   "source": [
    "clf.fit(xtrain, ytrain)"
   ]
  },
  {
   "cell_type": "code",
   "execution_count": 47,
   "metadata": {},
   "outputs": [
    {
     "name": "stdout",
     "output_type": "stream",
     "text": [
      "Trianing Score: 0.7847222222222222\n",
      "Testing Score: 0.875\n"
     ]
    }
   ],
   "source": [
    "x_train_pred = clf.predict(xtrain)\n",
    "Train_accuray_score = accuracy_score(x_train_pred, ytrain)\n",
    "print('Trianing Score:', Train_accuray_score)\n",
    "\n",
    "x_test_pred = clf.predict(xtest)\n",
    "Test_accuracy_score = accuracy_score(x_test_pred, ytest)\n",
    "print('Testing Score:', Test_accuracy_score)"
   ]
  },
  {
   "cell_type": "code",
   "execution_count": 48,
   "metadata": {},
   "outputs": [
    {
     "name": "stdout",
     "output_type": "stream",
     "text": [
      "Precision Score: 1.0\n",
      "Recall Score: 0.8461538461538461\n",
      "F1 Score: 0.9166666666666666\n"
     ]
    }
   ],
   "source": [
    "from sklearn.metrics import precision_score, recall_score, f1_score\n",
    "\n",
    "pred = precision_score(x_test_pred, ytest)\n",
    "rec = recall_score(x_test_pred, ytest)\n",
    "f1 = f1_score(x_test_pred, ytest)\n",
    "\n",
    "print('Precision Score:', pred)\n",
    "print('Recall Score:', rec)\n",
    "print('F1 Score:', f1)"
   ]
  },
  {
   "cell_type": "code",
   "execution_count": 51,
   "metadata": {},
   "outputs": [
    {
     "name": "stdout",
     "output_type": "stream",
     "text": [
      "[0]\n",
      "This person choose not get loan\n"
     ]
    }
   ],
   "source": [
    "inputs = (1,1,0,2,0,1800,2934.0,93.0,360.0,0.0,2)\n",
    "\n",
    "# แปลง ค่าในตัวแปร inputs ให้เป็นรูปแบบ numPy Array [1 1 0 2 0 1800 ...]\n",
    "# ส่วน reshape(1,-1) แปลงให้อยู่ใน dataframe2มิติ 1 แถว 11คอลัมน์\n",
    "input_as_np_array = np.array(inputs).reshape(1,-1)\n",
    "\n",
    "prediction = clf.predict(input_as_np_array)\n",
    "print(prediction)\n",
    "\n",
    "if (prediction[0] == 0):\n",
    "    print('This person choose not get loan')\n",
    "else:\n",
    "    print('This person choose get loan')\n"
   ]
  },
  {
   "cell_type": "code",
   "execution_count": 50,
   "metadata": {},
   "outputs": [
    {
     "data": {
      "text/plain": [
       "['clf_model.kpl']"
      ]
     },
     "execution_count": 50,
     "metadata": {},
     "output_type": "execute_result"
    }
   ],
   "source": [
    "import joblib\n",
    "\n",
    "joblib.dump(clf, 'clf_model.kpl')"
   ]
  },
  {
   "cell_type": "code",
   "execution_count": null,
   "metadata": {},
   "outputs": [],
   "source": []
  }
 ],
 "metadata": {
  "kernelspec": {
   "display_name": "Python 3",
   "language": "python",
   "name": "python3"
  },
  "language_info": {
   "codemirror_mode": {
    "name": "ipython",
    "version": 3
   },
   "file_extension": ".py",
   "mimetype": "text/x-python",
   "name": "python",
   "nbconvert_exporter": "python",
   "pygments_lexer": "ipython3",
   "version": "3.11.0"
  }
 },
 "nbformat": 4,
 "nbformat_minor": 2
}
