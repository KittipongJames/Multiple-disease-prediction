{
 "cells": [
  {
   "cell_type": "code",
   "execution_count": 7,
   "metadata": {},
   "outputs": [
    {
     "name": "stdout",
     "output_type": "stream",
     "text": [
      "   col1  col2  col3  col4  col5  col6    col7  col8   col9  col10  col11\n",
      "0     1     1     0     2     0  1800  2934.0  93.0  360.0    0.0      2\n",
      "1     1     1     0     2     0  1800  2934.0  93.0  360.0    0.0      2\n"
     ]
    }
   ],
   "source": [
    "import numpy as np\n",
    "import pandas as pd\n",
    "inputs_data = [(1,1,0,2,0,1800,2934.0,93.0,360.0,0.0,2)]\n",
    "\n",
    "columns = ['col1', 'col2', 'col3', 'col4', 'col5', 'col6', 'col7', 'col8', 'col9', 'col10', 'col11']\n",
    "\n",
    "df = pd.DataFrame(inputs_data, columns=columns)\n",
    "\n",
    "print(df)"
   ]
  },
  {
   "cell_type": "code",
   "execution_count": 14,
   "metadata": {},
   "outputs": [
    {
     "name": "stdout",
     "output_type": "stream",
     "text": [
      "   col1  col2  col3  col4  col5  col6    col7  col8   col9  col10  col11\n",
      "0     1     1     0     2     0  1800  2934.0  93.0  360.0    0.0      2\n"
     ]
    }
   ],
   "source": [
    "df = pd.DataFrame([(1,1,0,2,0,1800,2934.0,93.0,360.0,0.0,2)], columns=['col1', 'col2', 'col3', 'col4', 'col5', 'col6', 'col7', 'col8', 'col9', 'col10', 'col11'])\n",
    "\n",
    "print(df)"
   ]
  },
  {
   "cell_type": "code",
   "execution_count": null,
   "metadata": {},
   "outputs": [],
   "source": []
  }
 ],
 "metadata": {
  "kernelspec": {
   "display_name": "Python 3",
   "language": "python",
   "name": "python3"
  },
  "language_info": {
   "codemirror_mode": {
    "name": "ipython",
    "version": 3
   },
   "file_extension": ".py",
   "mimetype": "text/x-python",
   "name": "python",
   "nbconvert_exporter": "python",
   "pygments_lexer": "ipython3",
   "version": "3.11.0"
  }
 },
 "nbformat": 4,
 "nbformat_minor": 2
}
