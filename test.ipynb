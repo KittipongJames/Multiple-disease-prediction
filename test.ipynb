{
 "cells": [
  {
   "cell_type": "code",
   "execution_count": 1,
   "metadata": {},
   "outputs": [],
   "source": [
    "import pandas as pd\n",
    "import numpy as np\n",
    "import seaborn as sns\n",
    "from sklearn.model_selection import train_test_split\n",
    "from sklearn import svm\n",
    "from sklearn.metrics import accuracy_score\n",
    "import warnings\n",
    "warnings.filterwarnings('ignore')"
   ]
  },
  {
   "cell_type": "code",
   "execution_count": 2,
   "metadata": {},
   "outputs": [
    {
     "name": "stdout",
     "output_type": "stream",
     "text": [
      "    Loan_ID Gender Married Dependents     Education Self_Employed  \\\n",
      "0  LP001002   Male      No          0      Graduate            No   \n",
      "1  LP001003   Male     Yes          1      Graduate            No   \n",
      "2  LP001005   Male     Yes          0      Graduate           Yes   \n",
      "3  LP001006   Male     Yes          0  Not Graduate            No   \n",
      "4  LP001008   Male      No          0      Graduate            No   \n",
      "\n",
      "   ApplicantIncome  CoapplicantIncome  LoanAmount  Loan_Amount_Term  \\\n",
      "0             5849                0.0         NaN             360.0   \n",
      "1             4583             1508.0       128.0             360.0   \n",
      "2             3000                0.0        66.0             360.0   \n",
      "3             2583             2358.0       120.0             360.0   \n",
      "4             6000                0.0       141.0             360.0   \n",
      "\n",
      "   Credit_History Property_Area Loan_Status  \n",
      "0             1.0         Urban           Y  \n",
      "1             1.0         Rural           N  \n",
      "2             1.0         Urban           Y  \n",
      "3             1.0         Urban           Y  \n",
      "4             1.0         Urban           Y  \n"
     ]
    }
   ],
   "source": [
    "# Loading dataset into pandas dataframe\n",
    "data = pd.read_csv('train.csv')\n",
    "print(data.head())"
   ]
  },
  {
   "cell_type": "code",
   "execution_count": 3,
   "metadata": {},
   "outputs": [
    {
     "name": "stdout",
     "output_type": "stream",
     "text": [
      "Loan_ID               0\n",
      "Gender               13\n",
      "Married               3\n",
      "Dependents           15\n",
      "Education             0\n",
      "Self_Employed        32\n",
      "ApplicantIncome       0\n",
      "CoapplicantIncome     0\n",
      "LoanAmount           22\n",
      "Loan_Amount_Term     14\n",
      "Credit_History       50\n",
      "Property_Area         0\n",
      "Loan_Status           0\n",
      "dtype: int64\n"
     ]
    }
   ],
   "source": [
    "print(data.isnull().sum())"
   ]
  },
  {
   "cell_type": "code",
   "execution_count": 4,
   "metadata": {},
   "outputs": [
    {
     "data": {
      "text/plain": [
       "Dependents\n",
       "0     345\n",
       "1     102\n",
       "2     101\n",
       "3+     51\n",
       "Name: count, dtype: int64"
      ]
     },
     "execution_count": 4,
     "metadata": {},
     "output_type": "execute_result"
    }
   ],
   "source": [
    "# ลิสต์ค่าข้อมูลตัวเลข 0 1 2 3+ ในคอัลมน์ Dependents ว่ามีตัวเลขนี้กี่ตัว\n",
    "data['Dependents'].value_counts()"
   ]
  },
  {
   "cell_type": "code",
   "execution_count": 5,
   "metadata": {},
   "outputs": [
    {
     "data": {
      "text/plain": [
       "Dependents\n",
       "0    345\n",
       "1    102\n",
       "2    101\n",
       "4     51\n",
       "Name: count, dtype: int64"
      ]
     },
     "execution_count": 5,
     "metadata": {},
     "output_type": "execute_result"
    }
   ],
   "source": [
    "# data.replace ทำการเข้าถึงฐานข้อมูลแล้ว ทำการเปลี่ยนค่าในฐานข้อมูล จาก '3+' แทนค่าเป็น '4' แล้วอัพเดทข้อมูลลงในตัวแปร data\n",
    "data = data.replace(to_replace='3+', value='4')\n",
    "data['Dependents'].value_counts()"
   ]
  },
  {
   "cell_type": "code",
   "execution_count": 6,
   "metadata": {},
   "outputs": [
    {
     "name": "stdout",
     "output_type": "stream",
     "text": [
      "Loan_ID              0\n",
      "Gender               0\n",
      "Married              0\n",
      "Dependents           0\n",
      "Education            0\n",
      "Self_Employed        0\n",
      "ApplicantIncome      0\n",
      "CoapplicantIncome    0\n",
      "LoanAmount           0\n",
      "Loan_Amount_Term     0\n",
      "Credit_History       0\n",
      "Property_Area        0\n",
      "Loan_Status          0\n",
      "dtype: int64\n"
     ]
    }
   ],
   "source": [
    "# เข้าถึงฐานข้อมูลแล้วใช้คำสั่ง dropna ทำการลบ เอาออกค่าในทุกแถวและคอลัมน์ที่ไม่มีค่า มักนำมาใช้กับข้อมูลที่ต้องการความชัดเจน ถูกต้อง\n",
    "#** หลังจากพบเห็นค่าว่าง isnull จากโค้ด data.isnull().sum() ให้ใช้คำสั่ง dropna() ตาม\n",
    "data = data.dropna()\n",
    "print(data.isnull().sum())"
   ]
  },
  {
   "cell_type": "code",
   "execution_count": 7,
   "metadata": {},
   "outputs": [
    {
     "name": "stdout",
     "output_type": "stream",
     "text": [
      "    Loan_ID Gender Married Dependents     Education Self_Employed  \\\n",
      "1  LP001003   Male     Yes          1      Graduate            No   \n",
      "2  LP001005   Male     Yes          0      Graduate           Yes   \n",
      "3  LP001006   Male     Yes          0  Not Graduate            No   \n",
      "4  LP001008   Male      No          0      Graduate            No   \n",
      "5  LP001011   Male     Yes          2      Graduate           Yes   \n",
      "6  LP001013   Male     Yes          0  Not Graduate            No   \n",
      "7  LP001014   Male     Yes          4      Graduate            No   \n",
      "8  LP001018   Male     Yes          2      Graduate            No   \n",
      "\n",
      "   ApplicantIncome  CoapplicantIncome  LoanAmount  Loan_Amount_Term  \\\n",
      "1             4583             1508.0       128.0             360.0   \n",
      "2             3000                0.0        66.0             360.0   \n",
      "3             2583             2358.0       120.0             360.0   \n",
      "4             6000                0.0       141.0             360.0   \n",
      "5             5417             4196.0       267.0             360.0   \n",
      "6             2333             1516.0        95.0             360.0   \n",
      "7             3036             2504.0       158.0             360.0   \n",
      "8             4006             1526.0       168.0             360.0   \n",
      "\n",
      "   Credit_History Property_Area  Loan_Status  \n",
      "1             1.0         Rural            0  \n",
      "2             1.0         Urban            1  \n",
      "3             1.0         Urban            1  \n",
      "4             1.0         Urban            1  \n",
      "5             1.0         Urban            1  \n",
      "6             1.0         Urban            1  \n",
      "7             0.0     Semiurban            0  \n",
      "8             1.0         Urban            1  \n"
     ]
    }
   ],
   "source": [
    "data.replace({'Loan_Status': {'N':0, 'Y':1}}, inplace=True)\n",
    "print(data.head(8))"
   ]
  },
  {
   "cell_type": "code",
   "execution_count": 8,
   "metadata": {},
   "outputs": [
    {
     "name": "stdout",
     "output_type": "stream",
     "text": [
      "['Yes' 'No']\n",
      "['Male' 'Female']\n",
      "['No' 'Yes']\n",
      "['Rural' 'Urban' 'Semiurban']\n",
      "['Graduate' 'Not Graduate']\n"
     ]
    }
   ],
   "source": [
    "# คำสั่ง unique() ทำการlist ค่าที่อยู่ในแต่ล่ะคอลัมน์แต่ล่ะตัวออกมาโดยไม่ซํ้ากัน\n",
    "print(data['Married'].unique())\n",
    "print(data['Gender'].unique())\n",
    "print(data['Self_Employed'].unique())\n",
    "print(data['Property_Area'].unique())\n",
    "print(data['Education'].unique())"
   ]
  },
  {
   "cell_type": "code",
   "execution_count": 9,
   "metadata": {},
   "outputs": [
    {
     "data": {
      "text/html": [
       "<div>\n",
       "<style scoped>\n",
       "    .dataframe tbody tr th:only-of-type {\n",
       "        vertical-align: middle;\n",
       "    }\n",
       "\n",
       "    .dataframe tbody tr th {\n",
       "        vertical-align: top;\n",
       "    }\n",
       "\n",
       "    .dataframe thead th {\n",
       "        text-align: right;\n",
       "    }\n",
       "</style>\n",
       "<table border=\"1\" class=\"dataframe\">\n",
       "  <thead>\n",
       "    <tr style=\"text-align: right;\">\n",
       "      <th></th>\n",
       "      <th>Loan_ID</th>\n",
       "      <th>Gender</th>\n",
       "      <th>Married</th>\n",
       "      <th>Dependents</th>\n",
       "      <th>Education</th>\n",
       "      <th>Self_Employed</th>\n",
       "      <th>ApplicantIncome</th>\n",
       "      <th>CoapplicantIncome</th>\n",
       "      <th>LoanAmount</th>\n",
       "      <th>Loan_Amount_Term</th>\n",
       "      <th>Credit_History</th>\n",
       "      <th>Property_Area</th>\n",
       "      <th>Loan_Status</th>\n",
       "    </tr>\n",
       "  </thead>\n",
       "  <tbody>\n",
       "    <tr>\n",
       "      <th>1</th>\n",
       "      <td>LP001003</td>\n",
       "      <td>1</td>\n",
       "      <td>1</td>\n",
       "      <td>1</td>\n",
       "      <td>1</td>\n",
       "      <td>0</td>\n",
       "      <td>4583</td>\n",
       "      <td>1508.0</td>\n",
       "      <td>128.0</td>\n",
       "      <td>360.0</td>\n",
       "      <td>1.0</td>\n",
       "      <td>0</td>\n",
       "      <td>0</td>\n",
       "    </tr>\n",
       "    <tr>\n",
       "      <th>2</th>\n",
       "      <td>LP001005</td>\n",
       "      <td>1</td>\n",
       "      <td>1</td>\n",
       "      <td>0</td>\n",
       "      <td>1</td>\n",
       "      <td>1</td>\n",
       "      <td>3000</td>\n",
       "      <td>0.0</td>\n",
       "      <td>66.0</td>\n",
       "      <td>360.0</td>\n",
       "      <td>1.0</td>\n",
       "      <td>2</td>\n",
       "      <td>1</td>\n",
       "    </tr>\n",
       "    <tr>\n",
       "      <th>3</th>\n",
       "      <td>LP001006</td>\n",
       "      <td>1</td>\n",
       "      <td>1</td>\n",
       "      <td>0</td>\n",
       "      <td>2</td>\n",
       "      <td>0</td>\n",
       "      <td>2583</td>\n",
       "      <td>2358.0</td>\n",
       "      <td>120.0</td>\n",
       "      <td>360.0</td>\n",
       "      <td>1.0</td>\n",
       "      <td>2</td>\n",
       "      <td>1</td>\n",
       "    </tr>\n",
       "    <tr>\n",
       "      <th>4</th>\n",
       "      <td>LP001008</td>\n",
       "      <td>1</td>\n",
       "      <td>0</td>\n",
       "      <td>0</td>\n",
       "      <td>1</td>\n",
       "      <td>0</td>\n",
       "      <td>6000</td>\n",
       "      <td>0.0</td>\n",
       "      <td>141.0</td>\n",
       "      <td>360.0</td>\n",
       "      <td>1.0</td>\n",
       "      <td>2</td>\n",
       "      <td>1</td>\n",
       "    </tr>\n",
       "    <tr>\n",
       "      <th>5</th>\n",
       "      <td>LP001011</td>\n",
       "      <td>1</td>\n",
       "      <td>1</td>\n",
       "      <td>2</td>\n",
       "      <td>1</td>\n",
       "      <td>1</td>\n",
       "      <td>5417</td>\n",
       "      <td>4196.0</td>\n",
       "      <td>267.0</td>\n",
       "      <td>360.0</td>\n",
       "      <td>1.0</td>\n",
       "      <td>2</td>\n",
       "      <td>1</td>\n",
       "    </tr>\n",
       "    <tr>\n",
       "      <th>...</th>\n",
       "      <td>...</td>\n",
       "      <td>...</td>\n",
       "      <td>...</td>\n",
       "      <td>...</td>\n",
       "      <td>...</td>\n",
       "      <td>...</td>\n",
       "      <td>...</td>\n",
       "      <td>...</td>\n",
       "      <td>...</td>\n",
       "      <td>...</td>\n",
       "      <td>...</td>\n",
       "      <td>...</td>\n",
       "      <td>...</td>\n",
       "    </tr>\n",
       "    <tr>\n",
       "      <th>609</th>\n",
       "      <td>LP002978</td>\n",
       "      <td>0</td>\n",
       "      <td>0</td>\n",
       "      <td>0</td>\n",
       "      <td>1</td>\n",
       "      <td>0</td>\n",
       "      <td>2900</td>\n",
       "      <td>0.0</td>\n",
       "      <td>71.0</td>\n",
       "      <td>360.0</td>\n",
       "      <td>1.0</td>\n",
       "      <td>0</td>\n",
       "      <td>1</td>\n",
       "    </tr>\n",
       "    <tr>\n",
       "      <th>610</th>\n",
       "      <td>LP002979</td>\n",
       "      <td>1</td>\n",
       "      <td>1</td>\n",
       "      <td>4</td>\n",
       "      <td>1</td>\n",
       "      <td>0</td>\n",
       "      <td>4106</td>\n",
       "      <td>0.0</td>\n",
       "      <td>40.0</td>\n",
       "      <td>180.0</td>\n",
       "      <td>1.0</td>\n",
       "      <td>0</td>\n",
       "      <td>1</td>\n",
       "    </tr>\n",
       "    <tr>\n",
       "      <th>611</th>\n",
       "      <td>LP002983</td>\n",
       "      <td>1</td>\n",
       "      <td>1</td>\n",
       "      <td>1</td>\n",
       "      <td>1</td>\n",
       "      <td>0</td>\n",
       "      <td>8072</td>\n",
       "      <td>240.0</td>\n",
       "      <td>253.0</td>\n",
       "      <td>360.0</td>\n",
       "      <td>1.0</td>\n",
       "      <td>2</td>\n",
       "      <td>1</td>\n",
       "    </tr>\n",
       "    <tr>\n",
       "      <th>612</th>\n",
       "      <td>LP002984</td>\n",
       "      <td>1</td>\n",
       "      <td>1</td>\n",
       "      <td>2</td>\n",
       "      <td>1</td>\n",
       "      <td>0</td>\n",
       "      <td>7583</td>\n",
       "      <td>0.0</td>\n",
       "      <td>187.0</td>\n",
       "      <td>360.0</td>\n",
       "      <td>1.0</td>\n",
       "      <td>2</td>\n",
       "      <td>1</td>\n",
       "    </tr>\n",
       "    <tr>\n",
       "      <th>613</th>\n",
       "      <td>LP002990</td>\n",
       "      <td>0</td>\n",
       "      <td>0</td>\n",
       "      <td>0</td>\n",
       "      <td>1</td>\n",
       "      <td>1</td>\n",
       "      <td>4583</td>\n",
       "      <td>0.0</td>\n",
       "      <td>133.0</td>\n",
       "      <td>360.0</td>\n",
       "      <td>0.0</td>\n",
       "      <td>1</td>\n",
       "      <td>0</td>\n",
       "    </tr>\n",
       "  </tbody>\n",
       "</table>\n",
       "<p>480 rows × 13 columns</p>\n",
       "</div>"
      ],
      "text/plain": [
       "      Loan_ID  Gender  Married Dependents  Education  Self_Employed  \\\n",
       "1    LP001003       1        1          1          1              0   \n",
       "2    LP001005       1        1          0          1              1   \n",
       "3    LP001006       1        1          0          2              0   \n",
       "4    LP001008       1        0          0          1              0   \n",
       "5    LP001011       1        1          2          1              1   \n",
       "..        ...     ...      ...        ...        ...            ...   \n",
       "609  LP002978       0        0          0          1              0   \n",
       "610  LP002979       1        1          4          1              0   \n",
       "611  LP002983       1        1          1          1              0   \n",
       "612  LP002984       1        1          2          1              0   \n",
       "613  LP002990       0        0          0          1              1   \n",
       "\n",
       "     ApplicantIncome  CoapplicantIncome  LoanAmount  Loan_Amount_Term  \\\n",
       "1               4583             1508.0       128.0             360.0   \n",
       "2               3000                0.0        66.0             360.0   \n",
       "3               2583             2358.0       120.0             360.0   \n",
       "4               6000                0.0       141.0             360.0   \n",
       "5               5417             4196.0       267.0             360.0   \n",
       "..               ...                ...         ...               ...   \n",
       "609             2900                0.0        71.0             360.0   \n",
       "610             4106                0.0        40.0             180.0   \n",
       "611             8072              240.0       253.0             360.0   \n",
       "612             7583                0.0       187.0             360.0   \n",
       "613             4583                0.0       133.0             360.0   \n",
       "\n",
       "     Credit_History  Property_Area  Loan_Status  \n",
       "1               1.0              0            0  \n",
       "2               1.0              2            1  \n",
       "3               1.0              2            1  \n",
       "4               1.0              2            1  \n",
       "5               1.0              2            1  \n",
       "..              ...            ...          ...  \n",
       "609             1.0              0            1  \n",
       "610             1.0              0            1  \n",
       "611             1.0              2            1  \n",
       "612             1.0              2            1  \n",
       "613             0.0              1            0  \n",
       "\n",
       "[480 rows x 13 columns]"
      ]
     },
     "execution_count": 9,
     "metadata": {},
     "output_type": "execute_result"
    }
   ],
   "source": [
    "data.replace({'Married': {'No':0, 'Yes':1},\n",
    "                    'Gender': {'Male': 1, 'Female': 0},\n",
    "                    'Self_Employed': {'No':0, 'Yes': 1},\n",
    "                    'Property_Area': {'Rural':0, 'Semiurban':1, 'Urban':2},\n",
    "                    'Education': {'Graduate': 1, 'Not Graduate': 2}}, inplace=True)\n",
    "data"
   ]
  },
  {
   "cell_type": "code",
   "execution_count": 10,
   "metadata": {},
   "outputs": [
    {
     "data": {
      "text/plain": [
       "1      0\n",
       "2      1\n",
       "3      1\n",
       "4      1\n",
       "5      1\n",
       "      ..\n",
       "609    1\n",
       "610    1\n",
       "611    1\n",
       "612    1\n",
       "613    0\n",
       "Name: Loan_Status, Length: 480, dtype: int64"
      ]
     },
     "execution_count": 10,
     "metadata": {},
     "output_type": "execute_result"
    }
   ],
   "source": [
    "# ใช้คำสั่ง drop ทำการdrop ทั้งชื่อหัวข้อและค่าในแนวตั้ง axis=1\n",
    "x = data.drop(columns= ['Loan_ID', 'Loan_Status'], axis=1)\n",
    "y = data['Loan_Status']\n",
    "y"
   ]
  },
  {
   "cell_type": "code",
   "execution_count": 11,
   "metadata": {},
   "outputs": [
    {
     "name": "stdout",
     "output_type": "stream",
     "text": [
      "(480, 11) (432, 11) (48, 11)\n"
     ]
    }
   ],
   "source": [
    "xtrain, xtest, ytrain, ytest = train_test_split(x,y, test_size=.1, stratify=y, random_state=2)\n",
    "print(x.shape, xtrain.shape, xtest.shape)"
   ]
  },
  {
   "cell_type": "code",
   "execution_count": 12,
   "metadata": {},
   "outputs": [
    {
     "name": "stdout",
     "output_type": "stream",
     "text": [
      "     Gender  Married Dependents  Education  Self_Employed  ApplicantIncome  \\\n",
      "368       1        1          1          1              0             6325   \n",
      "74        1        1          4          1              1             5266   \n",
      "135       1        1          4          1              0             4000   \n",
      "53        1        1          2          1              0             4616   \n",
      "96        0        1          0          1              0             2484   \n",
      "388       1        1          0          1              0             2333   \n",
      "345       1        1          0          1              0             2499   \n",
      "8         1        1          2          1              0             4006   \n",
      "549       1        1          0          1              0             2785   \n",
      "99        1        1          0          1              0             1759   \n",
      "49        0        0          0          1              0             4000   \n",
      "513       1        1          0          1              0             2130   \n",
      "43        1        1          0          1              0             3941   \n",
      "92        1        1          2          2              0             3273   \n",
      "555       1        1          1          1              0             5468   \n",
      "609       0        0          0          1              0             2900   \n",
      "221       1        1          2          1              0             4009   \n",
      "454       1        0          0          1              1             7085   \n",
      "607       1        1          2          2              0             3987   \n",
      "179       1        0          0          2              0             2333   \n",
      "277       1        1          0          1              0             3103   \n",
      "488       1        1          2          1              1             4583   \n",
      "150       1        0          0          1              0             6277   \n",
      "585       1        1          1          1              0             4283   \n",
      "168       1        0          0          1              0             2237   \n",
      "267       1        1          4          1              0             4333   \n",
      "543       1        1          1          2              0             2239   \n",
      "520       1        1          2          2              0             2192   \n",
      "22        1        1          0          2              0             2600   \n",
      "69        0        0          0          1              0             4300   \n",
      "91        1        1          2          1              0             6250   \n",
      "250       1        1          0          2              0             1668   \n",
      "416       0        0          1          1              0             2600   \n",
      "154       1        0          0          1              0             3254   \n",
      "415       0        0          0          1              0             2995   \n",
      "291       1        1          2          1              0             4400   \n",
      "253       1        1          1          2              0             2661   \n",
      "97        1        1          0          1              0             1977   \n",
      "393       1        1          2          2              0             1993   \n",
      "399       0        0          0          1              0             1500   \n",
      "537       1        0          2          1              0             3617   \n",
      "15        1        0          0          1              0             4950   \n",
      "469       1        1          0          1              0             4333   \n",
      "371       1        1          2          1              0             5185   \n",
      "300       1        1          0          2              0             1800   \n",
      "189       1        1          0          1              0             9328   \n",
      "224       1        1          0          1              0             6250   \n",
      "201       1        0          2          1              0             4923   \n",
      "\n",
      "     CoapplicantIncome  LoanAmount  Loan_Amount_Term  Credit_History  \\\n",
      "368                0.0       175.0             360.0             1.0   \n",
      "74              1774.0       187.0             360.0             1.0   \n",
      "135             7750.0       290.0             360.0             1.0   \n",
      "53                 0.0       134.0             360.0             1.0   \n",
      "96              2302.0       137.0             360.0             1.0   \n",
      "388             2417.0       136.0             360.0             1.0   \n",
      "345             2458.0       160.0             360.0             1.0   \n",
      "8               1526.0       168.0             360.0             1.0   \n",
      "549             2016.0       110.0             360.0             1.0   \n",
      "99              3541.0       131.0             360.0             1.0   \n",
      "49              2275.0       144.0             360.0             1.0   \n",
      "513             6666.0        70.0             180.0             1.0   \n",
      "43              2336.0       134.0             360.0             1.0   \n",
      "92              1820.0        81.0             360.0             1.0   \n",
      "555             1032.0        26.0             360.0             1.0   \n",
      "609                0.0        71.0             360.0             1.0   \n",
      "221             1717.0       116.0             360.0             1.0   \n",
      "454                0.0        84.0             360.0             1.0   \n",
      "607             1411.0       157.0             360.0             1.0   \n",
      "179             1451.0       102.0             480.0             0.0   \n",
      "277             1300.0        80.0             360.0             1.0   \n",
      "488             2083.0       160.0             360.0             1.0   \n",
      "150                0.0       118.0             360.0             0.0   \n",
      "585             3000.0       172.0              84.0             1.0   \n",
      "168                0.0        63.0             480.0             0.0   \n",
      "267             1811.0       160.0             360.0             0.0   \n",
      "543             2524.0       128.0             360.0             1.0   \n",
      "520             1742.0        45.0             360.0             1.0   \n",
      "22              1911.0       116.0             360.0             0.0   \n",
      "69                 0.0       136.0             360.0             0.0   \n",
      "91              5654.0       188.0             180.0             1.0   \n",
      "250             3890.0       201.0             360.0             0.0   \n",
      "416                0.0       160.0             360.0             1.0   \n",
      "154                0.0        50.0             360.0             1.0   \n",
      "415                0.0        60.0             360.0             1.0   \n",
      "291                0.0       127.0             360.0             0.0   \n",
      "253             7101.0       279.0             180.0             1.0   \n",
      "97               997.0        50.0             360.0             1.0   \n",
      "393             1625.0       113.0             180.0             1.0   \n",
      "399             1800.0       103.0             360.0             0.0   \n",
      "537                0.0       107.0             360.0             1.0   \n",
      "15                 0.0       125.0             360.0             1.0   \n",
      "469             2451.0       110.0             360.0             1.0   \n",
      "371                0.0       155.0             360.0             1.0   \n",
      "300             2934.0        93.0             360.0             0.0   \n",
      "189                0.0       188.0             180.0             1.0   \n",
      "224                0.0       128.0             360.0             1.0   \n",
      "201                0.0       166.0             360.0             0.0   \n",
      "\n",
      "     Property_Area  \n",
      "368              1  \n",
      "74               1  \n",
      "135              1  \n",
      "53               2  \n",
      "96               1  \n",
      "388              2  \n",
      "345              1  \n",
      "8                2  \n",
      "549              0  \n",
      "99               1  \n",
      "49               1  \n",
      "513              1  \n",
      "43               1  \n",
      "92               2  \n",
      "555              1  \n",
      "609              0  \n",
      "221              1  \n",
      "454              1  \n",
      "607              0  \n",
      "179              2  \n",
      "277              2  \n",
      "488              1  \n",
      "150              0  \n",
      "585              0  \n",
      "168              1  \n",
      "267              2  \n",
      "543              2  \n",
      "520              1  \n",
      "22               1  \n",
      "69               1  \n",
      "91               1  \n",
      "250              1  \n",
      "416              2  \n",
      "154              2  \n",
      "415              2  \n",
      "291              1  \n",
      "253              1  \n",
      "97               1  \n",
      "393              1  \n",
      "399              1  \n",
      "537              1  \n",
      "15               2  \n",
      "469              2  \n",
      "371              1  \n",
      "300              2  \n",
      "189              0  \n",
      "224              1  \n",
      "201              1  \n"
     ]
    }
   ],
   "source": [
    "print(xtest)"
   ]
  },
  {
   "cell_type": "code",
   "execution_count": 13,
   "metadata": {},
   "outputs": [],
   "source": [
    "# concat เป็นการเอาข้อมูลหลายๆ Dataframe มารวมกันในรูปแบบ Tables\n",
    "# ในส่วนนี้ xtest มีข้อมูลถึง Gender ถึง ApplicantIncome ส่วน Y มีข้อมูลแค่ Loan_Status\n",
    "# จะเอาข้อมูล2Dataframe มารวมกันใช้คำสั่ง pd.concat([xtest,ytest], axis=1) ส่วน axis=1 ให้รวมข้อมูลในคอลัมน์แนวตั้ง\n",
    "data = pd.concat([xtest,ytest], axis=1)\n",
    "data.to_csv('test.txt', index=False)"
   ]
  },
  {
   "cell_type": "code",
   "execution_count": 14,
   "metadata": {},
   "outputs": [],
   "source": [
    "clf = svm.SVC(kernel='linear', C=1)"
   ]
  },
  {
   "cell_type": "code",
   "execution_count": 15,
   "metadata": {},
   "outputs": [
    {
     "ename": "",
     "evalue": "",
     "output_type": "error",
     "traceback": [
      "\u001b[1;31mThe Kernel crashed while executing code in the current cell or a previous cell. \n",
      "\u001b[1;31mPlease review the code in the cell(s) to identify a possible cause of the failure. \n",
      "\u001b[1;31mClick <a href='https://aka.ms/vscodeJupyterKernelCrash'>here</a> for more info. \n",
      "\u001b[1;31mView Jupyter <a href='command:jupyter.viewOutput'>log</a> for further details."
     ]
    }
   ],
   "source": [
    "#train the support vector machine\n",
    "# โยนข้อมุล xtrain ytrain เข้าไปเรียนรู้ใน clf ที่เก็บข้อมูล SVC \n",
    "clf.fit(xtrain, ytrain)"
   ]
  },
  {
   "cell_type": "code",
   "execution_count": null,
   "metadata": {},
   "outputs": [
    {
     "name": "stdout",
     "output_type": "stream",
     "text": [
      "Accuracy Score on Training data : 0.7916666666666666\n",
      "Accuracy Score on Testing data : 0.8333333333333334\n"
     ]
    }
   ],
   "source": [
    "# model evalution\n",
    "\n",
    "# Accuracy score in \n",
    "x_train_pred = clf.predict(xtrain)\n",
    "train_data_accuracy = accuracy_score(x_train_pred, ytrain)\n",
    "print('Accuracy Score on Training data :', train_data_accuracy)\n",
    "\n",
    "# Accuracy in test score\n",
    "x_test_pred = clf.predict(xtest)\n",
    "test_data_accuracy = accuracy_score(x_test_pred, ytest)\n",
    "print('Accuracy Score on Testing data :', test_data_accuracy)"
   ]
  },
  {
   "cell_type": "code",
   "execution_count": null,
   "metadata": {},
   "outputs": [
    {
     "name": "stdout",
     "output_type": "stream",
     "text": [
      "Precision: 0.9393939393939394\n",
      "Recall: 0.8378378378378378\n",
      "F1: 0.8857142857142857\n"
     ]
    }
   ],
   "source": [
    "# mำการคำนวณหาประสิทธิภาพของโมเดล (Precision ความแม่นยำ) (Recall ความครอบคลุม)F1 (ความแม่นยำของการจำแนกประเภท) โดยนำข้อมูลการทำนายจาก x_test_pred และ ytest มาหาความแม่นยำย่อยๆต่อ \n",
    "from sklearn.metrics import precision_score, recall_score, f1_score\n",
    "\n",
    "prec = precision_score(x_test_pred, ytest)\n",
    "rec = recall_score(x_test_pred, ytest)\n",
    "f1 = f1_score(x_test_pred, ytest)\n",
    "\n",
    "print('Precision:', prec)\n",
    "print('Recall:', rec)\n",
    "print('F1:', f1)"
   ]
  },
  {
   "cell_type": "code",
   "execution_count": null,
   "metadata": {},
   "outputs": [
    {
     "name": "stdout",
     "output_type": "stream",
     "text": [
      "[0]\n",
      "This person should not get loan\n"
     ]
    }
   ],
   "source": [
    "# making prediction\n",
    "# จัดเก็บข้อมูล 11ข้อมูลในรุปแบบ tuple ชุดข้อมูลที่แสดงตามลำดับและไม่สามารถเปลี่ยนแปลงข้อมูลนั้นได้\n",
    "inputs = (1,1,0,2,0,1800,2934.0,93.0,360.0,0.0,2)\n",
    "\n",
    "# Change input data to numpy array and reshape\n",
    "# ทำการแปลงข้อมูลในตัวแปร inputs เป็น array NumPy = [1 1 0 2 0 1800 2934 ...] \n",
    "#ส่วน .reshape(1,-1) แล้วแปลงไปเป็น array 2 มิติที่มี 1 แถว 11คอลัมน์ (ซึ่งเหมาะกับการนำไปใช้กับ SVM) - อ่านเพิ่มเติมใน OneNote\n",
    "input_as_np_array = np.array(inputs).reshape(1,-1)\n",
    "\n",
    "# นำโมเดล clf ที่ได้ถูกฝึกสอนแล้วเอามาทำนายการให้สินเชื่อของแต่ล่ะบุคคลในตัวแปร input_as_np_array\n",
    "prediction = clf.predict(input_as_np_array)\n",
    "print(prediction)\n",
    "\n",
    "# เชคว่าค่าใน Prediciton เป็น 0 หรือไม่\n",
    "if (prediction[0] == 0):\n",
    "    print('This person should not get loan')\n",
    "else:\n",
    "    print('This person is qualify for a loan')"
   ]
  },
  {
   "cell_type": "code",
   "execution_count": null,
   "metadata": {},
   "outputs": [
    {
     "data": {
      "text/plain": [
       "['clf_model.pkl']"
      ]
     },
     "execution_count": 20,
     "metadata": {},
     "output_type": "execute_result"
    }
   ],
   "source": [
    "#saving our model\n",
    "import joblib\n",
    "\n",
    "joblib.dump(clf, 'clf_model.pkl')"
   ]
  },
  {
   "cell_type": "code",
   "execution_count": null,
   "metadata": {},
   "outputs": [],
   "source": []
  }
 ],
 "metadata": {
  "kernelspec": {
   "display_name": "Python 3",
   "language": "python",
   "name": "python3"
  },
  "language_info": {
   "codemirror_mode": {
    "name": "ipython",
    "version": 3
   },
   "file_extension": ".py",
   "mimetype": "text/x-python",
   "name": "python",
   "nbconvert_exporter": "python",
   "pygments_lexer": "ipython3",
   "version": "3.11.0"
  }
 },
 "nbformat": 4,
 "nbformat_minor": 2
}
